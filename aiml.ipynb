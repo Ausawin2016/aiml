{
 "cells": [
  {
   "cell_type": "code",
   "execution_count": 1,
   "metadata": {},
   "outputs": [
    {
     "name": "stdout",
     "output_type": "stream",
     "text": [
      "Collecting detecto\n",
      "  Downloading detecto-1.2.2-py3-none-any.whl (25 kB)\n",
      "Collecting torch\n",
      "  Downloading torch-1.11.0-cp39-none-macosx_10_9_x86_64.whl (129.9 MB)\n",
      "\u001b[2K     \u001b[90m━━━━━━━━━━━━━━━━━━━━━━━━━━━━━━━━━━━━━━━\u001b[0m \u001b[32m129.9/129.9 MB\u001b[0m \u001b[31m2.2 MB/s\u001b[0m eta \u001b[36m0:00:00\u001b[0m\n",
      "\u001b[?25hRequirement already satisfied: pandas in /Users/ai/opt/anaconda3/lib/python3.9/site-packages (from detecto) (1.4.2)\n",
      "Collecting opencv-python\n",
      "  Downloading opencv_python-4.5.5.64-cp36-abi3-macosx_10_15_x86_64.whl (46.3 MB)\n",
      "\u001b[2K     \u001b[90m━━━━━━━━━━━━━━━━━━━━━━━━━━━━━━━━━━━━━━━━\u001b[0m \u001b[32m46.3/46.3 MB\u001b[0m \u001b[31m9.8 MB/s\u001b[0m eta \u001b[36m0:00:00\u001b[0m\n",
      "\u001b[?25hRequirement already satisfied: tqdm in /Users/ai/opt/anaconda3/lib/python3.9/site-packages (from detecto) (4.64.0)\n",
      "Requirement already satisfied: matplotlib in /Users/ai/opt/anaconda3/lib/python3.9/site-packages (from detecto) (3.5.1)\n",
      "Collecting torchvision\n",
      "  Downloading torchvision-0.12.0-cp39-cp39-macosx_10_9_x86_64.whl (1.2 MB)\n",
      "\u001b[2K     \u001b[90m━━━━━━━━━━━━━━━━━━━━━━━━━━━━━━━━━━━━━━━━\u001b[0m \u001b[32m1.2/1.2 MB\u001b[0m \u001b[31m10.5 MB/s\u001b[0m eta \u001b[36m0:00:00\u001b[0m\n",
      "\u001b[?25hRequirement already satisfied: fonttools>=4.22.0 in /Users/ai/opt/anaconda3/lib/python3.9/site-packages (from matplotlib->detecto) (4.25.0)\n",
      "Requirement already satisfied: pillow>=6.2.0 in /Users/ai/opt/anaconda3/lib/python3.9/site-packages (from matplotlib->detecto) (9.0.1)\n",
      "Requirement already satisfied: numpy>=1.17 in /Users/ai/opt/anaconda3/lib/python3.9/site-packages (from matplotlib->detecto) (1.21.5)\n",
      "Requirement already satisfied: packaging>=20.0 in /Users/ai/opt/anaconda3/lib/python3.9/site-packages (from matplotlib->detecto) (21.3)\n",
      "Requirement already satisfied: kiwisolver>=1.0.1 in /Users/ai/opt/anaconda3/lib/python3.9/site-packages (from matplotlib->detecto) (1.3.2)\n",
      "Requirement already satisfied: pyparsing>=2.2.1 in /Users/ai/opt/anaconda3/lib/python3.9/site-packages (from matplotlib->detecto) (3.0.4)\n",
      "Requirement already satisfied: cycler>=0.10 in /Users/ai/opt/anaconda3/lib/python3.9/site-packages (from matplotlib->detecto) (0.11.0)\n",
      "Requirement already satisfied: python-dateutil>=2.7 in /Users/ai/opt/anaconda3/lib/python3.9/site-packages (from matplotlib->detecto) (2.8.2)\n",
      "Requirement already satisfied: pytz>=2020.1 in /Users/ai/opt/anaconda3/lib/python3.9/site-packages (from pandas->detecto) (2021.3)\n",
      "Requirement already satisfied: typing-extensions in /Users/ai/opt/anaconda3/lib/python3.9/site-packages (from torch->detecto) (4.1.1)\n",
      "Requirement already satisfied: requests in /Users/ai/opt/anaconda3/lib/python3.9/site-packages (from torchvision->detecto) (2.27.1)\n",
      "Requirement already satisfied: six>=1.5 in /Users/ai/opt/anaconda3/lib/python3.9/site-packages (from python-dateutil>=2.7->matplotlib->detecto) (1.16.0)\n",
      "Requirement already satisfied: idna<4,>=2.5 in /Users/ai/opt/anaconda3/lib/python3.9/site-packages (from requests->torchvision->detecto) (3.3)\n",
      "Requirement already satisfied: certifi>=2017.4.17 in /Users/ai/opt/anaconda3/lib/python3.9/site-packages (from requests->torchvision->detecto) (2021.10.8)\n",
      "Requirement already satisfied: charset-normalizer~=2.0.0 in /Users/ai/opt/anaconda3/lib/python3.9/site-packages (from requests->torchvision->detecto) (2.0.4)\n",
      "Requirement already satisfied: urllib3<1.27,>=1.21.1 in /Users/ai/opt/anaconda3/lib/python3.9/site-packages (from requests->torchvision->detecto) (1.26.9)\n",
      "Installing collected packages: torch, opencv-python, torchvision, detecto\n",
      "Successfully installed detecto-1.2.2 opencv-python-4.5.5.64 torch-1.11.0 torchvision-0.12.0\n"
     ]
    }
   ],
   "source": [
    "!pip install detecto"
   ]
  },
  {
   "cell_type": "code",
   "execution_count": 2,
   "metadata": {},
   "outputs": [],
   "source": [
    "import torch\n",
    "import torchvision\n",
    "import matplotlib.pyplot as plt\n",
    "\n",
    "from torchvision import transforms\n",
    "from detecto import core, utils, visualize"
   ]
  },
  {
   "cell_type": "code",
   "execution_count": 7,
   "metadata": {},
   "outputs": [
    {
     "data": {
      "text/html": [
       "<div>\n",
       "<style scoped>\n",
       "    .dataframe tbody tr th:only-of-type {\n",
       "        vertical-align: middle;\n",
       "    }\n",
       "\n",
       "    .dataframe tbody tr th {\n",
       "        vertical-align: top;\n",
       "    }\n",
       "\n",
       "    .dataframe thead th {\n",
       "        text-align: right;\n",
       "    }\n",
       "</style>\n",
       "<table border=\"1\" class=\"dataframe\">\n",
       "  <thead>\n",
       "    <tr style=\"text-align: right;\">\n",
       "      <th></th>\n",
       "      <th>filename</th>\n",
       "      <th>width</th>\n",
       "      <th>height</th>\n",
       "      <th>class</th>\n",
       "      <th>xmin</th>\n",
       "      <th>ymin</th>\n",
       "      <th>xmax</th>\n",
       "      <th>ymax</th>\n",
       "      <th>image_id</th>\n",
       "    </tr>\n",
       "  </thead>\n",
       "  <tbody>\n",
       "  </tbody>\n",
       "</table>\n",
       "</div>"
      ],
      "text/plain": [
       "Empty DataFrame\n",
       "Columns: [filename, width, height, class, xmin, ymin, xmax, ymax, image_id]\n",
       "Index: []"
      ]
     },
     "execution_count": 7,
     "metadata": {},
     "output_type": "execute_result"
    }
   ],
   "source": [
    "utils.xml_to_csv('train_labels', 'train.csv')\n",
    "utils.xml_to_csv('val_labels', 'val.csv')"
   ]
  },
  {
   "cell_type": "code",
   "execution_count": null,
   "metadata": {},
   "outputs": [],
   "source": [
    "# Specify a list of transformations for our dataset to apply on our images\n",
    "transform_img = transforms.Compose([\n",
    "    transforms.ToPILImage(),\n",
    "    transforms.Resize(800),\n",
    "    transforms.RandomHorizontalFlip(0.5),\n",
    "    transforms.ToTensor(),\n",
    "    utils.normalize_transform(),\n",
    "])\n",
    "\n",
    "dataset = core.Dataset('train.csv', 'images/', transform=transform_img)\n",
    "\n",
    "# dataset[i] returns a tuple containing our transformed image and\n",
    "# and a dictionary containing label and box data\n",
    "image, target = dataset[100]\n",
    "\n",
    "# Show our image along with the box. Note: it may\n",
    "# be colored oddly due to being normalized by the \n",
    "# dataset and then reverse-normalized for plotting\n",
    "visualize.show_labeled_image(image, target['boxes'], target['labels'])"
   ]
  }
 ],
 "metadata": {
  "interpreter": {
   "hash": "04a41addc3a69d26f15bae00c22ef53bf47e6912250f4901b79500e08837a218"
  },
  "kernelspec": {
   "display_name": "Python 3.9.12 64-bit ('base': conda)",
   "name": "python3"
  },
  "language_info": {
   "codemirror_mode": {
    "name": "ipython",
    "version": 3
   },
   "file_extension": ".py",
   "mimetype": "text/x-python",
   "name": "python",
   "nbconvert_exporter": "python",
   "pygments_lexer": "ipython3",
   "version": "3.9.12"
  },
  "orig_nbformat": 4
 },
 "nbformat": 4,
 "nbformat_minor": 2
}
